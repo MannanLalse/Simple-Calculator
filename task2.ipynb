{
 "cells": [
  {
   "cell_type": "code",
   "execution_count": null,
   "id": "44f14efe-6edc-4207-a421-cff197e8e8f4",
   "metadata": {},
   "outputs": [
    {
     "name": "stdout",
     "output_type": "stream",
     "text": [
      "\n",
      "To-Do List Application\n",
      "1. Add Task\n",
      "2. View Tasks\n",
      "3. Mark Task as Completed\n",
      "4. Edit Task\n",
      "5. Delete Task\n",
      "6. Exit\n"
     ]
    }
   ],
   "source": [
    "# Simple Calculator Function\n",
    "def calculator():\n",
    "    # Step 1: Get input from the user\n",
    "    num1 = float(input(\"Enter the first number: \"))\n",
    "    num2 = float(input(\"Enter the second number: \"))\n",
    "    \n",
    "    # Step 2: Ask the user for the operation\n",
    "    print(\"\\nSelect operation:\")\n",
    "    print(\"1. Add (+)\")\n",
    "    print(\"2. Subtract (-)\")\n",
    "    print(\"3. Multiply (*)\")\n",
    "    print(\"4. Divide (/)\")\n",
    "    \n",
    "    operation = input(\"Enter choice (1/2/3/4): \")\n",
    "    \n",
    "    # Step 3: Perform the calculation based on user input\n",
    "    if operation == '1':\n",
    "        result = num1 + num2\n",
    "        op_symbol = \"+\"\n",
    "    elif operation == '2':\n",
    "        result = num1 - num2\n",
    "        op_symbol = \"-\"\n",
    "    elif operation == '3':\n",
    "        result = num1 * num2\n",
    "        op_symbol = \"*\"\n",
    "    elif operation == '4':\n",
    "        if num2 != 0:\n",
    "            result = num1 / num2\n",
    "            op_symbol = \"/\"\n",
    "        else:\n",
    "            return \"Error! Division by zero is not allowed.\"\n",
    "    else:\n",
    "        return \"Invalid Input! Please select a valid operation.\"\n",
    "    \n",
    "    # Step 4: Display the result\n",
    "    return f\"{num1} {op_symbol} {num2} = {result}\"\n",
    "\n",
    "# Call the calculator function and display the result\n",
    "print(calculator())"
   ]
  }
 ],
 "metadata": {
  "kernelspec": {
   "display_name": "Python 3 (ipykernel)",
   "language": "python",
   "name": "python3"
  },
  "language_info": {
   "codemirror_mode": {
    "name": "ipython",
    "version": 3
   },
   "file_extension": ".py",
   "mimetype": "text/x-python",
   "name": "python",
   "nbconvert_exporter": "python",
   "pygments_lexer": "ipython3",
   "version": "3.12.5"
  }
 },
 "nbformat": 4,
 "nbformat_minor": 5
}
